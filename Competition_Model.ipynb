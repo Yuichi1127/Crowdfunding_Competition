{
 "cells": [
  {
   "cell_type": "code",
   "execution_count": 70,
   "metadata": {},
   "outputs": [],
   "source": [
    "import pandas as pd\n",
    "import numpy as np\n",
    "import seaborn as sns\n",
    "from sklearn.model_selection import train_test_split\n",
    "import lightgbm as lgb\n",
    "import matplotlib.pyplot as plt\n",
    "from sklearn.metrics import mean_absolute_error\n",
    "from sklearn.preprocessing import LabelEncoder"
   ]
  },
  {
   "cell_type": "markdown",
   "metadata": {},
   "source": [
    "## Next Step\n",
    "\n",
    "Kfold\n",
    "\n",
    "Tag\n",
    "\n",
    "Count_Descriptionする\n",
    "\n",
    "BERT特徴量\n"
   ]
  },
  {
   "cell_type": "markdown",
   "metadata": {},
   "source": [
    "## Learning trend for the model"
   ]
  },
  {
   "cell_type": "markdown",
   "metadata": {},
   "source": [
    "Benchmark: \n",
    "    \n",
    "    310.88949952769605 (val) 360.22544 (test)\n",
    "\n",
    "Add Word count for description and Loan use:\n",
    "    \n",
    "    302.439362173603 (val) 351.02701 (test)\n"
   ]
  },
  {
   "cell_type": "code",
   "execution_count": 71,
   "metadata": {},
   "outputs": [],
   "source": [
    "train = pd.read_csv('after_processing.csv')\n",
    "y = pd.read_csv('y.csv')\n",
    "test = pd.read_csv('test.csv')"
   ]
  },
  {
   "cell_type": "code",
   "execution_count": 72,
   "metadata": {},
   "outputs": [],
   "source": [
    "X_train, X_test, y_train, y_test = train_test_split(train, y, test_size=0.2, random_state = 42)"
   ]
  },
  {
   "cell_type": "code",
   "execution_count": 73,
   "metadata": {},
   "outputs": [],
   "source": [
    "params = {\n",
    "    \"application\" : \"regression_l1\",\n",
    "    \"metric\" : \"l1\" #mae\n",
    "}"
   ]
  },
  {
   "cell_type": "code",
   "execution_count": 74,
   "metadata": {},
   "outputs": [],
   "source": [
    "lgb_train = lgb.Dataset(X_train, y_train)\n",
    "lgb_eval = lgb.Dataset(X_test, y_test, reference=lgb_train) "
   ]
  },
  {
   "cell_type": "code",
   "execution_count": 75,
   "metadata": {},
   "outputs": [
    {
     "name": "stdout",
     "output_type": "stream",
     "text": [
      "[1]\ttrain's l1: 464.693\n",
      "[2]\ttrain's l1: 448.253\n",
      "[3]\ttrain's l1: 432.672\n",
      "[4]\ttrain's l1: 419.281\n",
      "[5]\ttrain's l1: 407.843\n",
      "[6]\ttrain's l1: 398.175\n",
      "[7]\ttrain's l1: 390.578\n",
      "[8]\ttrain's l1: 383.241\n",
      "[9]\ttrain's l1: 375.654\n",
      "[10]\ttrain's l1: 368.084\n",
      "[11]\ttrain's l1: 362.522\n",
      "[12]\ttrain's l1: 358.157\n",
      "[13]\ttrain's l1: 353.516\n",
      "[14]\ttrain's l1: 350.045\n",
      "[15]\ttrain's l1: 347.436\n",
      "[16]\ttrain's l1: 343.814\n",
      "[17]\ttrain's l1: 341.166\n",
      "[18]\ttrain's l1: 339.326\n",
      "[19]\ttrain's l1: 337.645\n",
      "[20]\ttrain's l1: 336.318\n",
      "[21]\ttrain's l1: 335.162\n",
      "[22]\ttrain's l1: 334.217\n",
      "[23]\ttrain's l1: 333.467\n",
      "[24]\ttrain's l1: 331.394\n",
      "[25]\ttrain's l1: 330.05\n",
      "[26]\ttrain's l1: 328.621\n",
      "[27]\ttrain's l1: 327.515\n",
      "[28]\ttrain's l1: 325.639\n",
      "[29]\ttrain's l1: 324.076\n",
      "[30]\ttrain's l1: 322.88\n",
      "[31]\ttrain's l1: 321.861\n",
      "[32]\ttrain's l1: 321.047\n",
      "[33]\ttrain's l1: 320.346\n",
      "[34]\ttrain's l1: 319.457\n",
      "[35]\ttrain's l1: 318.89\n",
      "[36]\ttrain's l1: 318.518\n",
      "[37]\ttrain's l1: 317.965\n",
      "[38]\ttrain's l1: 317.109\n",
      "[39]\ttrain's l1: 316.496\n",
      "[40]\ttrain's l1: 315.772\n",
      "[41]\ttrain's l1: 315.381\n",
      "[42]\ttrain's l1: 315.037\n",
      "[43]\ttrain's l1: 314.791\n",
      "[44]\ttrain's l1: 314.184\n",
      "[45]\ttrain's l1: 313.835\n",
      "[46]\ttrain's l1: 313.699\n",
      "[47]\ttrain's l1: 313.533\n",
      "[48]\ttrain's l1: 313.068\n",
      "[49]\ttrain's l1: 312.679\n",
      "[50]\ttrain's l1: 312.499\n",
      "[51]\ttrain's l1: 312.349\n",
      "[52]\ttrain's l1: 311.668\n",
      "[53]\ttrain's l1: 311.424\n",
      "[54]\ttrain's l1: 310.937\n",
      "[55]\ttrain's l1: 310.694\n",
      "[56]\ttrain's l1: 310.575\n",
      "[57]\ttrain's l1: 310.467\n",
      "[58]\ttrain's l1: 310.112\n",
      "[59]\ttrain's l1: 310.01\n",
      "[60]\ttrain's l1: 309.151\n",
      "[61]\ttrain's l1: 309.035\n",
      "[62]\ttrain's l1: 308.924\n",
      "[63]\ttrain's l1: 308.605\n",
      "[64]\ttrain's l1: 308.228\n",
      "[65]\ttrain's l1: 308.015\n",
      "[66]\ttrain's l1: 307.711\n",
      "[67]\ttrain's l1: 307.6\n",
      "[68]\ttrain's l1: 307.561\n",
      "[69]\ttrain's l1: 307.049\n",
      "[70]\ttrain's l1: 306.962\n",
      "[71]\ttrain's l1: 306.689\n",
      "[72]\ttrain's l1: 306.669\n",
      "[73]\ttrain's l1: 306.304\n",
      "[74]\ttrain's l1: 306.169\n",
      "[75]\ttrain's l1: 306.09\n",
      "[76]\ttrain's l1: 305.966\n",
      "[77]\ttrain's l1: 305.702\n",
      "[78]\ttrain's l1: 305.617\n",
      "[79]\ttrain's l1: 305.555\n",
      "[80]\ttrain's l1: 305.515\n",
      "[81]\ttrain's l1: 305.138\n",
      "[82]\ttrain's l1: 304.744\n",
      "[83]\ttrain's l1: 304.667\n",
      "[84]\ttrain's l1: 304.517\n",
      "[85]\ttrain's l1: 304.389\n",
      "[86]\ttrain's l1: 304.344\n",
      "[87]\ttrain's l1: 304.054\n",
      "[88]\ttrain's l1: 303.923\n",
      "[89]\ttrain's l1: 303.886\n",
      "[90]\ttrain's l1: 303.512\n",
      "[91]\ttrain's l1: 303.492\n",
      "[92]\ttrain's l1: 303.433\n",
      "[93]\ttrain's l1: 303.308\n",
      "[94]\ttrain's l1: 303.219\n",
      "[95]\ttrain's l1: 303.1\n",
      "[96]\ttrain's l1: 302.987\n",
      "[97]\ttrain's l1: 302.938\n",
      "[98]\ttrain's l1: 302.625\n",
      "[99]\ttrain's l1: 302.47\n",
      "[100]\ttrain's l1: 302.439\n",
      "CPU times: user 2.05 s, sys: 60.7 ms, total: 2.11 s\n",
      "Wall time: 704 ms\n"
     ]
    }
   ],
   "source": [
    "%%time\n",
    "evaluation_results = {}\n",
    "model = lgb.train(params,\n",
    "                  train_set=lgb_train,\n",
    "                  valid_sets=lgb_eval,\n",
    "                  valid_names=[\"train\"],  \n",
    "                  evals_result=evaluation_results\n",
    "                  )"
   ]
  },
  {
   "cell_type": "code",
   "execution_count": 76,
   "metadata": {},
   "outputs": [
    {
     "data": {
      "image/png": "[encoded data removed]",
      "text/plain": [
       "<Figure size 432x288 with 1 Axes>"
      ]
     },
     "metadata": {
      "needs_background": "light"
     },
     "output_type": "display_data"
    }
   ],
   "source": [
    "plt.plot(evaluation_results[\"train\"][\"l1\"], label=\"train\")\n",
    "plt.ylabel(\"MAE\")\n",
    "plt.xlabel(\"Num Boosting round\")\n",
    "plt.title(\"Training performance\")\n",
    "plt.legend()\n",
    "plt.show()"
   ]
  },
  {
   "cell_type": "code",
   "execution_count": 77,
   "metadata": {},
   "outputs": [],
   "source": [
    "y_pred = model.predict(X_test)"
   ]
  },
  {
   "cell_type": "code",
   "execution_count": 78,
   "metadata": {},
   "outputs": [
    {
     "name": "stdout",
     "output_type": "stream",
     "text": [
      "MAE = 302.439362173603\n"
     ]
    }
   ],
   "source": [
    "MAE = mean_absolute_error(y_test, y_pred)\n",
    "print(\"MAE = \" + str(MAE))"
   ]
  },
  {
   "cell_type": "code",
   "execution_count": 79,
   "metadata": {},
   "outputs": [
    {
     "data": {
      "image/png": "[encoded data removed]",
      "text/plain": [
       "<Figure size 432x288 with 1 Axes>"
      ]
     },
     "metadata": {
      "needs_background": "light"
     },
     "output_type": "display_data"
    }
   ],
   "source": [
    "lgb.plot_importance(model)\n",
    "plt.show()"
   ]
  },
  {
   "cell_type": "code",
   "execution_count": 80,
   "metadata": {},
   "outputs": [],
   "source": [
    "train_columns = [\"ORIGINAL_LANGUAGE\", \"ACTIVITY_NAME\", \"SECTOR_NAME\", \"COUNTRY_CODE\",\"CURRENCY_POLICY\",\n",
    "       \"CURRENCY\",\"REPAYMENT_INTERVAL\", \"DISTRIBUTION_MODEL\"]\n"
   ]
  },
  {
   "cell_type": "code",
   "execution_count": 81,
   "metadata": {},
   "outputs": [
    {
     "name": "stderr",
     "output_type": "stream",
     "text": [
      "/opt/anaconda3/lib/python3.7/site-packages/ipykernel_launcher.py:8: SettingWithCopyWarning: \n",
      "A value is trying to be set on a copy of a slice from a DataFrame.\n",
      "Try using .loc[row_indexer,col_indexer] = value instead\n",
      "\n",
      "See the caveats in the documentation: https://pandas.pydata.org/pandas-docs/stable/user_guide/indexing.html#returning-a-view-versus-a-copy\n",
      "  \n"
     ]
    }
   ],
   "source": [
    "test_X = test[train_columns]\n",
    "\n",
    "for column in test_X.columns:\n",
    "    le = LabelEncoder()\n",
    "    target_column = test_X[column]\n",
    "    le.fit(target_column)\n",
    "    label_encoded_column = le.transform(target_column)\n",
    "    test_X[column] = pd.Series(label_encoded_column).astype(\"int\")\n",
    "\n"
   ]
  },
  {
   "cell_type": "code",
   "execution_count": 82,
   "metadata": {},
   "outputs": [
    {
     "data": {
      "text/html": [
       "<div>\n",
       "<style scoped>\n",
       "    .dataframe tbody tr th:only-of-type {\n",
       "        vertical-align: middle;\n",
       "    }\n",
       "\n",
       "    .dataframe tbody tr th {\n",
       "        vertical-align: top;\n",
       "    }\n",
       "\n",
       "    .dataframe thead th {\n",
       "        text-align: right;\n",
       "    }\n",
       "</style>\n",
       "<table border=\"1\" class=\"dataframe\">\n",
       "  <thead>\n",
       "    <tr style=\"text-align: right;\">\n",
       "      <th></th>\n",
       "      <th>LOAN_ID</th>\n",
       "      <th>ORIGINAL_LANGUAGE</th>\n",
       "      <th>DESCRIPTION</th>\n",
       "      <th>DESCRIPTION_TRANSLATED</th>\n",
       "      <th>IMAGE_ID</th>\n",
       "      <th>ACTIVITY_NAME</th>\n",
       "      <th>SECTOR_NAME</th>\n",
       "      <th>LOAN_USE</th>\n",
       "      <th>COUNTRY_CODE</th>\n",
       "      <th>COUNTRY_NAME</th>\n",
       "      <th>TOWN_NAME</th>\n",
       "      <th>CURRENCY_POLICY</th>\n",
       "      <th>CURRENCY_EXCHANGE_COVERAGE_RATE</th>\n",
       "      <th>CURRENCY</th>\n",
       "      <th>TAGS</th>\n",
       "      <th>REPAYMENT_INTERVAL</th>\n",
       "      <th>DISTRIBUTION_MODEL</th>\n",
       "      <th>count_description_translated</th>\n",
       "      <th>count_LOAN_USE</th>\n",
       "    </tr>\n",
       "  </thead>\n",
       "  <tbody>\n",
       "    <tr>\n",
       "      <th>0</th>\n",
       "      <td>2041445</td>\n",
       "      <td>English</td>\n",
       "      <td>Marcela is 69 years old and married with ten c...</td>\n",
       "      <td>Marcela is 69 years old and married with ten c...</td>\n",
       "      <td>4051101</td>\n",
       "      <td>General Store</td>\n",
       "      <td>Retail</td>\n",
       "      <td>to buy items to sell like canned goods and per...</td>\n",
       "      <td>PH</td>\n",
       "      <td>Philippines</td>\n",
       "      <td>Cauayan, Negros Occidental</td>\n",
       "      <td>standard</td>\n",
       "      <td>NaN</td>\n",
       "      <td>PHP</td>\n",
       "      <td>NaN</td>\n",
       "      <td>monthly</td>\n",
       "      <td>field_partner</td>\n",
       "      <td>77</td>\n",
       "      <td>12</td>\n",
       "    </tr>\n",
       "    <tr>\n",
       "      <th>1</th>\n",
       "      <td>1944435</td>\n",
       "      <td>English</td>\n",
       "      <td>Roselia is 48 years old and has five children....</td>\n",
       "      <td>Roselia is 48 years old and has five children....</td>\n",
       "      <td>3410523</td>\n",
       "      <td>Pigs</td>\n",
       "      <td>Agriculture</td>\n",
       "      <td>to buy feeds and other supplies to raise her pig</td>\n",
       "      <td>PH</td>\n",
       "      <td>Philippines</td>\n",
       "      <td>Guihulngan, Negros Oriental</td>\n",
       "      <td>standard</td>\n",
       "      <td>NaN</td>\n",
       "      <td>PHP</td>\n",
       "      <td>#Animals, #Repeat Borrower, #Schooling, #Woman...</td>\n",
       "      <td>monthly</td>\n",
       "      <td>field_partner</td>\n",
       "      <td>92</td>\n",
       "      <td>10</td>\n",
       "    </tr>\n",
       "    <tr>\n",
       "      <th>2</th>\n",
       "      <td>2083354</td>\n",
       "      <td>English</td>\n",
       "      <td>Ma. Marebil is a single woman, 40 years old wi...</td>\n",
       "      <td>Ma. Marebil is a single woman, 40 years old wi...</td>\n",
       "      <td>4146690</td>\n",
       "      <td>Clothing Sales</td>\n",
       "      <td>Clothing</td>\n",
       "      <td>to buy additional stock of clothes and dresses...</td>\n",
       "      <td>PH</td>\n",
       "      <td>Philippines</td>\n",
       "      <td>Santa Barbara, Iloilo</td>\n",
       "      <td>standard</td>\n",
       "      <td>NaN</td>\n",
       "      <td>PHP</td>\n",
       "      <td>#Parent, #Single Parent, #Woman-Owned Business</td>\n",
       "      <td>monthly</td>\n",
       "      <td>field_partner</td>\n",
       "      <td>64</td>\n",
       "      <td>10</td>\n",
       "    </tr>\n",
       "    <tr>\n",
       "      <th>3</th>\n",
       "      <td>1993565</td>\n",
       "      <td>English</td>\n",
       "      <td>Good day, lenders! Meet one of KBMI’s clients,...</td>\n",
       "      <td>Good day, lenders! Meet one of KBMI’s clients,...</td>\n",
       "      <td>3945982</td>\n",
       "      <td>Food</td>\n",
       "      <td>Food</td>\n",
       "      <td>to buy more foods to grow her business.</td>\n",
       "      <td>ID</td>\n",
       "      <td>Indonesia</td>\n",
       "      <td>Pandeglang</td>\n",
       "      <td>shared</td>\n",
       "      <td>0.1</td>\n",
       "      <td>IDR</td>\n",
       "      <td>#Woman-Owned Business, #Schooling, #Elderly, #...</td>\n",
       "      <td>monthly</td>\n",
       "      <td>field_partner</td>\n",
       "      <td>153</td>\n",
       "      <td>8</td>\n",
       "    </tr>\n",
       "    <tr>\n",
       "      <th>4</th>\n",
       "      <td>2064272</td>\n",
       "      <td>English</td>\n",
       "      <td>Rosemarie is a married woman with two children...</td>\n",
       "      <td>Rosemarie is a married woman with two children...</td>\n",
       "      <td>4114040</td>\n",
       "      <td>Food</td>\n",
       "      <td>Food</td>\n",
       "      <td>to buy ingredients for her food production bus...</td>\n",
       "      <td>PH</td>\n",
       "      <td>Philippines</td>\n",
       "      <td>Sogod Cebu</td>\n",
       "      <td>standard</td>\n",
       "      <td>NaN</td>\n",
       "      <td>PHP</td>\n",
       "      <td>NaN</td>\n",
       "      <td>monthly</td>\n",
       "      <td>field_partner</td>\n",
       "      <td>80</td>\n",
       "      <td>8</td>\n",
       "    </tr>\n",
       "  </tbody>\n",
       "</table>\n",
       "</div>"
      ],
      "text/plain": [
       "   LOAN_ID ORIGINAL_LANGUAGE  \\\n",
       "0  2041445           English   \n",
       "1  1944435           English   \n",
       "2  2083354           English   \n",
       "3  1993565           English   \n",
       "4  2064272           English   \n",
       "\n",
       "                                         DESCRIPTION  \\\n",
       "0  Marcela is 69 years old and married with ten c...   \n",
       "1  Roselia is 48 years old and has five children....   \n",
       "2  Ma. Marebil is a single woman, 40 years old wi...   \n",
       "3  Good day, lenders! Meet one of KBMI’s clients,...   \n",
       "4  Rosemarie is a married woman with two children...   \n",
       "\n",
       "                              DESCRIPTION_TRANSLATED  IMAGE_ID  \\\n",
       "0  Marcela is 69 years old and married with ten c...   4051101   \n",
       "1  Roselia is 48 years old and has five children....   3410523   \n",
       "2  Ma. Marebil is a single woman, 40 years old wi...   4146690   \n",
       "3  Good day, lenders! Meet one of KBMI’s clients,...   3945982   \n",
       "4  Rosemarie is a married woman with two children...   4114040   \n",
       "\n",
       "    ACTIVITY_NAME  SECTOR_NAME  \\\n",
       "0   General Store       Retail   \n",
       "1            Pigs  Agriculture   \n",
       "2  Clothing Sales     Clothing   \n",
       "3            Food         Food   \n",
       "4            Food         Food   \n",
       "\n",
       "                                            LOAN_USE COUNTRY_CODE  \\\n",
       "0  to buy items to sell like canned goods and per...           PH   \n",
       "1  to buy feeds and other supplies to raise her pig            PH   \n",
       "2  to buy additional stock of clothes and dresses...           PH   \n",
       "3            to buy more foods to grow her business.           ID   \n",
       "4  to buy ingredients for her food production bus...           PH   \n",
       "\n",
       "  COUNTRY_NAME                    TOWN_NAME CURRENCY_POLICY  \\\n",
       "0  Philippines   Cauayan, Negros Occidental        standard   \n",
       "1  Philippines  Guihulngan, Negros Oriental        standard   \n",
       "2  Philippines        Santa Barbara, Iloilo        standard   \n",
       "3    Indonesia                   Pandeglang          shared   \n",
       "4  Philippines                   Sogod Cebu        standard   \n",
       "\n",
       "   CURRENCY_EXCHANGE_COVERAGE_RATE CURRENCY  \\\n",
       "0                              NaN      PHP   \n",
       "1                              NaN      PHP   \n",
       "2                              NaN      PHP   \n",
       "3                              0.1      IDR   \n",
       "4                              NaN      PHP   \n",
       "\n",
       "                                                TAGS REPAYMENT_INTERVAL  \\\n",
       "0                                                NaN            monthly   \n",
       "1  #Animals, #Repeat Borrower, #Schooling, #Woman...            monthly   \n",
       "2     #Parent, #Single Parent, #Woman-Owned Business            monthly   \n",
       "3  #Woman-Owned Business, #Schooling, #Elderly, #...            monthly   \n",
       "4                                                NaN            monthly   \n",
       "\n",
       "  DISTRIBUTION_MODEL  count_description_translated  count_LOAN_USE  \n",
       "0      field_partner                            77              12  \n",
       "1      field_partner                            92              10  \n",
       "2      field_partner                            64              10  \n",
       "3      field_partner                           153               8  \n",
       "4      field_partner                            80               8  "
      ]
     },
     "execution_count": 82,
     "metadata": {},
     "output_type": "execute_result"
    }
   ],
   "source": [
    "# Count the number of the translated description\n",
    "test['count_description_translated'] = test['DESCRIPTION_TRANSLATED'].apply(lambda x: x.split()) \n",
    "test['count_description_translated'] = test['count_description_translated'].apply(lambda x: len(x)) \n",
    "test['count_LOAN_USE'] = test['LOAN_USE'].apply(lambda x: x.split()) \n",
    "test['count_LOAN_USE'] = test['count_LOAN_USE'].apply(lambda x: len(x)) \n",
    "test.head()"
   ]
  },
  {
   "cell_type": "code",
   "execution_count": 83,
   "metadata": {},
   "outputs": [],
   "source": [
    "numerical = test[['count_description_translated', 'count_LOAN_USE']]\n",
    "test = pd.concat([test_X, numerical], axis=1)"
   ]
  },
  {
   "cell_type": "code",
   "execution_count": 84,
   "metadata": {},
   "outputs": [],
   "source": [
    "test_predicted = model.predict(test)"
   ]
  },
  {
   "cell_type": "code",
   "execution_count": 89,
   "metadata": {},
   "outputs": [],
   "source": [
    "submit_df = pd.read_csv('sample_submission.csv')"
   ]
  },
  {
   "cell_type": "code",
   "execution_count": 90,
   "metadata": {},
   "outputs": [
    {
     "name": "stdout",
     "output_type": "stream",
     "text": [
      "       LOAN_ID  LOAN_AMOUNT\n",
      "0      2041445          400\n",
      "1      1944435          350\n",
      "2      2083354          400\n",
      "3      1993565          500\n",
      "4      2064272          400\n",
      "...        ...          ...\n",
      "91817  1993862          275\n",
      "91818  2015070          100\n",
      "91819  1950349          300\n",
      "91820  1921580         1425\n",
      "91821  1976733          350\n",
      "\n",
      "[91822 rows x 2 columns]\n"
     ]
    }
   ],
   "source": [
    "test_predicted = (np.round(test_predicted/25)*25).astype(int)\n",
    "submit_df[\"LOAN_AMOUNT\"]=test_predicted\n",
    "print(submit_df)"
   ]
  },
  {
   "cell_type": "code",
   "execution_count": 93,
   "metadata": {},
   "outputs": [],
   "source": [
    "submit_df.to_csv('submission.csv',index=False)"
   ]
  },
  {
   "cell_type": "code",
   "execution_count": null,
   "metadata": {},
   "outputs": [],
   "source": []
  }
 ],
 "metadata": {
  "kernelspec": {
   "display_name": "Python 3",
   "language": "python",
   "name": "python3"
  },
  "language_info": {
   "codemirror_mode": {
    "name": "ipython",
    "version": 3
   },
   "file_extension": ".py",
   "mimetype": "text/x-python",
   "name": "python",
   "nbconvert_exporter": "python",
   "pygments_lexer": "ipython3",
   "version": "3.7.6"
  }
 },
 "nbformat": 4,
 "nbformat_minor": 4
}
