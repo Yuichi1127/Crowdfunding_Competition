{
 "cells": [
  {
   "cell_type": "code",
   "execution_count": 65,
   "metadata": {},
   "outputs": [],
   "source": [
    "import pandas as pd\n",
    "import numpy as np\n",
    "import seaborn as sns\n",
    "from sklearn.model_selection import train_test_split\n",
    "import lightgbm as lgb\n",
    "import matplotlib.pyplot as plt\n",
    "from sklearn.metrics import mean_absolute_error\n",
    "from sklearn.preprocessing import LabelEncoder\n",
    "from sklearn.model_selection import KFold\n",
    "from sklearn.model_selection import cross_val_score\n",
    "from lightgbm import LGBMClassifier\n"
   ]
  },
  {
   "cell_type": "markdown",
   "metadata": {},
   "source": [
    "## Next Step\n",
    "\n",
    "Kfold\n",
    "\n",
    "Tag\n",
    "\n",
    "Count_Descriptionする\n",
    "\n",
    "BERT特徴量\n",
    "\n",
    "Target Encoding \n",
    "\n",
    "Optuna\n",
    "\n",
    "Ensumble "
   ]
  },
  {
   "cell_type": "markdown",
   "metadata": {},
   "source": [
    "## Learning trend for the model"
   ]
  },
  {
   "cell_type": "markdown",
   "metadata": {},
   "source": [
    "Benchmark: \n",
    "    \n",
    "    310.88949952769605 (val) 360.22544 (test)\n",
    "\n",
    "Add Word count for description and Loan use:\n",
    "    \n",
    "    302.439362173603 (val) 351.02701 (test)\n",
    "    \n",
    "Add tags count and tags null checker\n",
    "\n",
    "    287.8709482227993 (val) 339.53605 (test)\n",
    "\n"
   ]
  },
  {
   "cell_type": "code",
   "execution_count": 66,
   "metadata": {},
   "outputs": [],
   "source": [
    "train = pd.read_csv('after_processing.csv')\n",
    "y = pd.read_csv('y.csv')\n",
    "test = pd.read_csv('test.csv')"
   ]
  },
  {
   "cell_type": "code",
   "execution_count": 67,
   "metadata": {},
   "outputs": [],
   "source": [
    "X_train, X_test, y_train, y_test = train_test_split(train, y, test_size=0.2, random_state = 42)"
   ]
  },
  {
   "cell_type": "code",
   "execution_count": 68,
   "metadata": {},
   "outputs": [],
   "source": [
    "params = {\n",
    "    \"application\" : \"regression_l1\",\n",
    "    \"metric\" : \"l1\" #mae\n",
    "}"
   ]
  },
  {
   "cell_type": "code",
   "execution_count": 69,
   "metadata": {},
   "outputs": [],
   "source": [
    "lgb_train = lgb.Dataset(X_train, y_train)\n",
    "lgb_eval = lgb.Dataset(X_test, y_test, reference=lgb_train) "
   ]
  },
  {
   "cell_type": "code",
   "execution_count": 70,
   "metadata": {},
   "outputs": [
    {
     "name": "stdout",
     "output_type": "stream",
     "text": [
      "[1]\ttrain's l1: 464.612\n",
      "[2]\ttrain's l1: 449.436\n",
      "[3]\ttrain's l1: 436.282\n",
      "[4]\ttrain's l1: 422.485\n",
      "[5]\ttrain's l1: 412.208\n",
      "[6]\ttrain's l1: 402.833\n",
      "[7]\ttrain's l1: 395.874\n",
      "[8]\ttrain's l1: 388.113\n",
      "[9]\ttrain's l1: 379.245\n",
      "[10]\ttrain's l1: 373.663\n",
      "[11]\ttrain's l1: 369.261\n",
      "[12]\ttrain's l1: 365.049\n",
      "[13]\ttrain's l1: 361.131\n",
      "[14]\ttrain's l1: 358.115\n",
      "[15]\ttrain's l1: 355.164\n",
      "[16]\ttrain's l1: 348.349\n",
      "[17]\ttrain's l1: 345.548\n",
      "[18]\ttrain's l1: 340.075\n",
      "[19]\ttrain's l1: 337.671\n",
      "[20]\ttrain's l1: 335.101\n",
      "[21]\ttrain's l1: 333.11\n",
      "[22]\ttrain's l1: 329.863\n",
      "[23]\ttrain's l1: 326.465\n",
      "[24]\ttrain's l1: 324.892\n",
      "[25]\ttrain's l1: 323.157\n",
      "[26]\ttrain's l1: 321.141\n",
      "[27]\ttrain's l1: 319.584\n",
      "[28]\ttrain's l1: 317.175\n",
      "[29]\ttrain's l1: 315.073\n",
      "[30]\ttrain's l1: 314.344\n",
      "[31]\ttrain's l1: 313.359\n",
      "[32]\ttrain's l1: 312.568\n",
      "[33]\ttrain's l1: 311.746\n",
      "[34]\ttrain's l1: 310.535\n",
      "[35]\ttrain's l1: 309.423\n",
      "[36]\ttrain's l1: 308.049\n",
      "[37]\ttrain's l1: 307.121\n",
      "[38]\ttrain's l1: 306.712\n",
      "[39]\ttrain's l1: 306.197\n",
      "[40]\ttrain's l1: 305.931\n",
      "[41]\ttrain's l1: 305.274\n",
      "[42]\ttrain's l1: 305.001\n",
      "[43]\ttrain's l1: 304.754\n",
      "[44]\ttrain's l1: 303.813\n",
      "[45]\ttrain's l1: 302.581\n",
      "[46]\ttrain's l1: 302.264\n",
      "[47]\ttrain's l1: 301.204\n",
      "[48]\ttrain's l1: 300.194\n",
      "[49]\ttrain's l1: 299.918\n",
      "[50]\ttrain's l1: 298.937\n",
      "[51]\ttrain's l1: 298.77\n",
      "[52]\ttrain's l1: 298.351\n",
      "[53]\ttrain's l1: 297.654\n",
      "[54]\ttrain's l1: 297.268\n",
      "[55]\ttrain's l1: 297.047\n",
      "[56]\ttrain's l1: 296.954\n",
      "[57]\ttrain's l1: 296.477\n",
      "[58]\ttrain's l1: 296.339\n",
      "[59]\ttrain's l1: 295.804\n",
      "[60]\ttrain's l1: 295.744\n",
      "[61]\ttrain's l1: 294.871\n",
      "[62]\ttrain's l1: 294.44\n",
      "[63]\ttrain's l1: 294.363\n",
      "[64]\ttrain's l1: 294.246\n",
      "[65]\ttrain's l1: 293.776\n",
      "[66]\ttrain's l1: 293.683\n",
      "[67]\ttrain's l1: 293.49\n",
      "[68]\ttrain's l1: 292.972\n",
      "[69]\ttrain's l1: 292.869\n",
      "[70]\ttrain's l1: 292.726\n",
      "[71]\ttrain's l1: 292.424\n",
      "[72]\ttrain's l1: 292.393\n",
      "[73]\ttrain's l1: 292.14\n",
      "[74]\ttrain's l1: 291.986\n",
      "[75]\ttrain's l1: 291.963\n",
      "[76]\ttrain's l1: 291.943\n",
      "[77]\ttrain's l1: 291.84\n",
      "[78]\ttrain's l1: 291.464\n",
      "[79]\ttrain's l1: 291.279\n",
      "[80]\ttrain's l1: 290.876\n",
      "[81]\ttrain's l1: 290.68\n",
      "[82]\ttrain's l1: 290.56\n",
      "[83]\ttrain's l1: 290.013\n",
      "[84]\ttrain's l1: 289.805\n",
      "[85]\ttrain's l1: 289.681\n",
      "[86]\ttrain's l1: 289.638\n",
      "[87]\ttrain's l1: 289.382\n",
      "[88]\ttrain's l1: 289.228\n",
      "[89]\ttrain's l1: 289.06\n",
      "[90]\ttrain's l1: 288.888\n",
      "[91]\ttrain's l1: 288.744\n",
      "[92]\ttrain's l1: 288.72\n",
      "[93]\ttrain's l1: 288.673\n",
      "[94]\ttrain's l1: 288.651\n",
      "[95]\ttrain's l1: 288.508\n",
      "[96]\ttrain's l1: 288.328\n",
      "[97]\ttrain's l1: 288.275\n",
      "[98]\ttrain's l1: 288.17\n",
      "[99]\ttrain's l1: 288.057\n",
      "[100]\ttrain's l1: 287.871\n",
      "CPU times: user 3.34 s, sys: 223 ms, total: 3.56 s\n",
      "Wall time: 1.44 s\n"
     ]
    }
   ],
   "source": [
    "%%time\n",
    "evaluation_results = {}\n",
    "model = lgb.train(params,\n",
    "                  train_set=lgb_train,\n",
    "                  valid_sets=lgb_eval,\n",
    "                  valid_names=[\"train\"],  \n",
    "                  evals_result=evaluation_results\n",
    "                  )"
   ]
  },
  {
   "cell_type": "code",
   "execution_count": 71,
   "metadata": {},
   "outputs": [
    {
     "data": {
      "image/png": "[encoded data removed]",
      "text/plain": [
       "<Figure size 432x288 with 1 Axes>"
      ]
     },
     "metadata": {
      "needs_background": "light"
     },
     "output_type": "display_data"
    }
   ],
   "source": [
    "plt.plot(evaluation_results[\"train\"][\"l1\"], label=\"train\")\n",
    "plt.ylabel(\"MAE\")\n",
    "plt.xlabel(\"Num Boosting round\")\n",
    "plt.title(\"Training performance\")\n",
    "plt.legend()\n",
    "plt.show()"
   ]
  },
  {
   "cell_type": "code",
   "execution_count": 72,
   "metadata": {},
   "outputs": [],
   "source": [
    "y_pred = model.predict(X_test)"
   ]
  },
  {
   "cell_type": "code",
   "execution_count": 73,
   "metadata": {},
   "outputs": [
    {
     "name": "stdout",
     "output_type": "stream",
     "text": [
      "MAE = 287.8709482227993\n"
     ]
    }
   ],
   "source": [
    "MAE = mean_absolute_error(y_test, y_pred)\n",
    "print(\"MAE = \" + str(MAE))"
   ]
  },
  {
   "cell_type": "code",
   "execution_count": 74,
   "metadata": {},
   "outputs": [
    {
     "data": {
      "image/png": "[encoded data removed]",
      "text/plain": [
       "<Figure size 432x288 with 1 Axes>"
      ]
     },
     "metadata": {
      "needs_background": "light"
     },
     "output_type": "display_data"
    }
   ],
   "source": [
    "lgb.plot_importance(model)\n",
    "plt.show()"
   ]
  },
  {
   "cell_type": "code",
   "execution_count": 75,
   "metadata": {},
   "outputs": [],
   "source": [
    "train_columns = [\"ORIGINAL_LANGUAGE\", \"ACTIVITY_NAME\", \"SECTOR_NAME\", \"COUNTRY_CODE\",\"CURRENCY_POLICY\",\n",
    "       \"CURRENCY\",\"REPAYMENT_INTERVAL\", \"DISTRIBUTION_MODEL\"]\n"
   ]
  },
  {
   "cell_type": "code",
   "execution_count": 76,
   "metadata": {},
   "outputs": [
    {
     "name": "stderr",
     "output_type": "stream",
     "text": [
      "/opt/anaconda3/lib/python3.7/site-packages/ipykernel_launcher.py:8: SettingWithCopyWarning: \n",
      "A value is trying to be set on a copy of a slice from a DataFrame.\n",
      "Try using .loc[row_indexer,col_indexer] = value instead\n",
      "\n",
      "See the caveats in the documentation: https://pandas.pydata.org/pandas-docs/stable/user_guide/indexing.html#returning-a-view-versus-a-copy\n",
      "  \n"
     ]
    }
   ],
   "source": [
    "test_X = test[train_columns]\n",
    "\n",
    "for column in test_X.columns:\n",
    "    le = LabelEncoder()\n",
    "    target_column = test_X[column]\n",
    "    le.fit(target_column)\n",
    "    label_encoded_column = le.transform(target_column)\n",
    "    test_X[column] = pd.Series(label_encoded_column).astype(\"int\")\n",
    "\n"
   ]
  },
  {
   "cell_type": "code",
   "execution_count": 80,
   "metadata": {},
   "outputs": [
    {
     "data": {
      "text/html": [
       "<div>\n",
       "<style scoped>\n",
       "    .dataframe tbody tr th:only-of-type {\n",
       "        vertical-align: middle;\n",
       "    }\n",
       "\n",
       "    .dataframe tbody tr th {\n",
       "        vertical-align: top;\n",
       "    }\n",
       "\n",
       "    .dataframe thead th {\n",
       "        text-align: right;\n",
       "    }\n",
       "</style>\n",
       "<table border=\"1\" class=\"dataframe\">\n",
       "  <thead>\n",
       "    <tr style=\"text-align: right;\">\n",
       "      <th></th>\n",
       "      <th>LOAN_ID</th>\n",
       "      <th>ORIGINAL_LANGUAGE</th>\n",
       "      <th>DESCRIPTION</th>\n",
       "      <th>DESCRIPTION_TRANSLATED</th>\n",
       "      <th>IMAGE_ID</th>\n",
       "      <th>ACTIVITY_NAME</th>\n",
       "      <th>SECTOR_NAME</th>\n",
       "      <th>LOAN_USE</th>\n",
       "      <th>COUNTRY_CODE</th>\n",
       "      <th>COUNTRY_NAME</th>\n",
       "      <th>...</th>\n",
       "      <th>CURRENCY_EXCHANGE_COVERAGE_RATE</th>\n",
       "      <th>CURRENCY</th>\n",
       "      <th>TAGS</th>\n",
       "      <th>REPAYMENT_INTERVAL</th>\n",
       "      <th>DISTRIBUTION_MODEL</th>\n",
       "      <th>count_description_translated</th>\n",
       "      <th>count_LOAN_USE</th>\n",
       "      <th>TAGS_NULL</th>\n",
       "      <th>change_TAGS</th>\n",
       "      <th>count_tags</th>\n",
       "    </tr>\n",
       "  </thead>\n",
       "  <tbody>\n",
       "    <tr>\n",
       "      <th>0</th>\n",
       "      <td>2041445</td>\n",
       "      <td>English</td>\n",
       "      <td>Marcela is 69 years old and married with ten c...</td>\n",
       "      <td>Marcela is 69 years old and married with ten c...</td>\n",
       "      <td>4051101</td>\n",
       "      <td>General Store</td>\n",
       "      <td>Retail</td>\n",
       "      <td>to buy items to sell like canned goods and per...</td>\n",
       "      <td>PH</td>\n",
       "      <td>Philippines</td>\n",
       "      <td>...</td>\n",
       "      <td>NaN</td>\n",
       "      <td>PHP</td>\n",
       "      <td>NAN</td>\n",
       "      <td>monthly</td>\n",
       "      <td>field_partner</td>\n",
       "      <td>77</td>\n",
       "      <td>12</td>\n",
       "      <td>0</td>\n",
       "      <td>[NAN]</td>\n",
       "      <td>1</td>\n",
       "    </tr>\n",
       "    <tr>\n",
       "      <th>1</th>\n",
       "      <td>1944435</td>\n",
       "      <td>English</td>\n",
       "      <td>Roselia is 48 years old and has five children....</td>\n",
       "      <td>Roselia is 48 years old and has five children....</td>\n",
       "      <td>3410523</td>\n",
       "      <td>Pigs</td>\n",
       "      <td>Agriculture</td>\n",
       "      <td>to buy feeds and other supplies to raise her pig</td>\n",
       "      <td>PH</td>\n",
       "      <td>Philippines</td>\n",
       "      <td>...</td>\n",
       "      <td>NaN</td>\n",
       "      <td>PHP</td>\n",
       "      <td>#Animals, #Repeat Borrower, #Schooling, #Woman...</td>\n",
       "      <td>monthly</td>\n",
       "      <td>field_partner</td>\n",
       "      <td>92</td>\n",
       "      <td>10</td>\n",
       "      <td>0</td>\n",
       "      <td>[#Animals,  #Repeat Borrower,  #Schooling,  #W...</td>\n",
       "      <td>5</td>\n",
       "    </tr>\n",
       "    <tr>\n",
       "      <th>2</th>\n",
       "      <td>2083354</td>\n",
       "      <td>English</td>\n",
       "      <td>Ma. Marebil is a single woman, 40 years old wi...</td>\n",
       "      <td>Ma. Marebil is a single woman, 40 years old wi...</td>\n",
       "      <td>4146690</td>\n",
       "      <td>Clothing Sales</td>\n",
       "      <td>Clothing</td>\n",
       "      <td>to buy additional stock of clothes and dresses...</td>\n",
       "      <td>PH</td>\n",
       "      <td>Philippines</td>\n",
       "      <td>...</td>\n",
       "      <td>NaN</td>\n",
       "      <td>PHP</td>\n",
       "      <td>#Parent, #Single Parent, #Woman-Owned Business</td>\n",
       "      <td>monthly</td>\n",
       "      <td>field_partner</td>\n",
       "      <td>64</td>\n",
       "      <td>10</td>\n",
       "      <td>0</td>\n",
       "      <td>[#Parent,  #Single Parent,  #Woman-Owned Busin...</td>\n",
       "      <td>3</td>\n",
       "    </tr>\n",
       "    <tr>\n",
       "      <th>3</th>\n",
       "      <td>1993565</td>\n",
       "      <td>English</td>\n",
       "      <td>Good day, lenders! Meet one of KBMI’s clients,...</td>\n",
       "      <td>Good day, lenders! Meet one of KBMI’s clients,...</td>\n",
       "      <td>3945982</td>\n",
       "      <td>Food</td>\n",
       "      <td>Food</td>\n",
       "      <td>to buy more foods to grow her business.</td>\n",
       "      <td>ID</td>\n",
       "      <td>Indonesia</td>\n",
       "      <td>...</td>\n",
       "      <td>0.1</td>\n",
       "      <td>IDR</td>\n",
       "      <td>#Woman-Owned Business, #Schooling, #Elderly, #...</td>\n",
       "      <td>monthly</td>\n",
       "      <td>field_partner</td>\n",
       "      <td>153</td>\n",
       "      <td>8</td>\n",
       "      <td>0</td>\n",
       "      <td>[#Woman-Owned Business,  #Schooling,  #Elderly...</td>\n",
       "      <td>4</td>\n",
       "    </tr>\n",
       "    <tr>\n",
       "      <th>4</th>\n",
       "      <td>2064272</td>\n",
       "      <td>English</td>\n",
       "      <td>Rosemarie is a married woman with two children...</td>\n",
       "      <td>Rosemarie is a married woman with two children...</td>\n",
       "      <td>4114040</td>\n",
       "      <td>Food</td>\n",
       "      <td>Food</td>\n",
       "      <td>to buy ingredients for her food production bus...</td>\n",
       "      <td>PH</td>\n",
       "      <td>Philippines</td>\n",
       "      <td>...</td>\n",
       "      <td>NaN</td>\n",
       "      <td>PHP</td>\n",
       "      <td>NAN</td>\n",
       "      <td>monthly</td>\n",
       "      <td>field_partner</td>\n",
       "      <td>80</td>\n",
       "      <td>8</td>\n",
       "      <td>0</td>\n",
       "      <td>[NAN]</td>\n",
       "      <td>1</td>\n",
       "    </tr>\n",
       "  </tbody>\n",
       "</table>\n",
       "<p>5 rows × 22 columns</p>\n",
       "</div>"
      ],
      "text/plain": [
       "   LOAN_ID ORIGINAL_LANGUAGE  \\\n",
       "0  2041445           English   \n",
       "1  1944435           English   \n",
       "2  2083354           English   \n",
       "3  1993565           English   \n",
       "4  2064272           English   \n",
       "\n",
       "                                         DESCRIPTION  \\\n",
       "0  Marcela is 69 years old and married with ten c...   \n",
       "1  Roselia is 48 years old and has five children....   \n",
       "2  Ma. Marebil is a single woman, 40 years old wi...   \n",
       "3  Good day, lenders! Meet one of KBMI’s clients,...   \n",
       "4  Rosemarie is a married woman with two children...   \n",
       "\n",
       "                              DESCRIPTION_TRANSLATED  IMAGE_ID  \\\n",
       "0  Marcela is 69 years old and married with ten c...   4051101   \n",
       "1  Roselia is 48 years old and has five children....   3410523   \n",
       "2  Ma. Marebil is a single woman, 40 years old wi...   4146690   \n",
       "3  Good day, lenders! Meet one of KBMI’s clients,...   3945982   \n",
       "4  Rosemarie is a married woman with two children...   4114040   \n",
       "\n",
       "    ACTIVITY_NAME  SECTOR_NAME  \\\n",
       "0   General Store       Retail   \n",
       "1            Pigs  Agriculture   \n",
       "2  Clothing Sales     Clothing   \n",
       "3            Food         Food   \n",
       "4            Food         Food   \n",
       "\n",
       "                                            LOAN_USE COUNTRY_CODE  \\\n",
       "0  to buy items to sell like canned goods and per...           PH   \n",
       "1  to buy feeds and other supplies to raise her pig            PH   \n",
       "2  to buy additional stock of clothes and dresses...           PH   \n",
       "3            to buy more foods to grow her business.           ID   \n",
       "4  to buy ingredients for her food production bus...           PH   \n",
       "\n",
       "  COUNTRY_NAME  ... CURRENCY_EXCHANGE_COVERAGE_RATE CURRENCY  \\\n",
       "0  Philippines  ...                             NaN      PHP   \n",
       "1  Philippines  ...                             NaN      PHP   \n",
       "2  Philippines  ...                             NaN      PHP   \n",
       "3    Indonesia  ...                             0.1      IDR   \n",
       "4  Philippines  ...                             NaN      PHP   \n",
       "\n",
       "                                                TAGS REPAYMENT_INTERVAL  \\\n",
       "0                                                NAN            monthly   \n",
       "1  #Animals, #Repeat Borrower, #Schooling, #Woman...            monthly   \n",
       "2     #Parent, #Single Parent, #Woman-Owned Business            monthly   \n",
       "3  #Woman-Owned Business, #Schooling, #Elderly, #...            monthly   \n",
       "4                                                NAN            monthly   \n",
       "\n",
       "  DISTRIBUTION_MODEL count_description_translated count_LOAN_USE  TAGS_NULL  \\\n",
       "0      field_partner                           77             12          0   \n",
       "1      field_partner                           92             10          0   \n",
       "2      field_partner                           64             10          0   \n",
       "3      field_partner                          153              8          0   \n",
       "4      field_partner                           80              8          0   \n",
       "\n",
       "                                         change_TAGS  count_tags  \n",
       "0                                              [NAN]           1  \n",
       "1  [#Animals,  #Repeat Borrower,  #Schooling,  #W...           5  \n",
       "2  [#Parent,  #Single Parent,  #Woman-Owned Busin...           3  \n",
       "3  [#Woman-Owned Business,  #Schooling,  #Elderly...           4  \n",
       "4                                              [NAN]           1  \n",
       "\n",
       "[5 rows x 22 columns]"
      ]
     },
     "execution_count": 80,
     "metadata": {},
     "output_type": "execute_result"
    }
   ],
   "source": [
    "# Count the number of the translated description\n",
    "test['count_description_translated'] = test['DESCRIPTION_TRANSLATED'].apply(lambda x: x.split()) \n",
    "test['count_description_translated'] = test['count_description_translated'].apply(lambda x: len(x)) \n",
    "test['count_LOAN_USE'] = test['LOAN_USE'].apply(lambda x: x.split()) \n",
    "test['count_LOAN_USE'] = test['count_LOAN_USE'].apply(lambda x: len(x)) \n",
    "test['TAGS_NULL'] = test['TAGS'].isnull() * 1\n",
    "\n",
    "def change_tags(x): \n",
    "    x = x.split(',') \n",
    "    return x \n",
    "test['TAGS'] = test['TAGS'].fillna('NAN')\n",
    "test['change_TAGS'] = test['TAGS'].apply(change_tags)\n",
    "test['count_tags'] = test['change_TAGS'].apply(lambda x: len(x))\n",
    "\n",
    "test.head()"
   ]
  },
  {
   "cell_type": "code",
   "execution_count": 81,
   "metadata": {},
   "outputs": [],
   "source": [
    "numerical = test[['count_description_translated', 'count_LOAN_USE','TAGS_NULL','count_tags']]\n",
    "test = pd.concat([test_X, numerical], axis=1)"
   ]
  },
  {
   "cell_type": "code",
   "execution_count": 82,
   "metadata": {},
   "outputs": [],
   "source": [
    "test_predicted = model.predict(test)"
   ]
  },
  {
   "cell_type": "code",
   "execution_count": 83,
   "metadata": {},
   "outputs": [],
   "source": [
    "submit_df = pd.read_csv('sample_submission.csv')"
   ]
  },
  {
   "cell_type": "code",
   "execution_count": 84,
   "metadata": {},
   "outputs": [
    {
     "name": "stdout",
     "output_type": "stream",
     "text": [
      "       LOAN_ID  LOAN_AMOUNT\n",
      "0      2041445          400\n",
      "1      1944435          425\n",
      "2      2083354          475\n",
      "3      1993565          525\n",
      "4      2064272          400\n",
      "...        ...          ...\n",
      "91817  1993862          325\n",
      "91818  2015070           75\n",
      "91819  1950349          375\n",
      "91820  1921580         1525\n",
      "91821  1976733          500\n",
      "\n",
      "[91822 rows x 2 columns]\n"
     ]
    }
   ],
   "source": [
    "test_predicted = (np.round(test_predicted/25)*25).astype(int)\n",
    "submit_df[\"LOAN_AMOUNT\"]=test_predicted\n",
    "print(submit_df)"
   ]
  },
  {
   "cell_type": "code",
   "execution_count": 85,
   "metadata": {},
   "outputs": [],
   "source": [
    "submit_df.to_csv('submission.csv',index=False)"
   ]
  },
  {
   "cell_type": "code",
   "execution_count": 54,
   "metadata": {},
   "outputs": [],
   "source": [
    "train = pd.read_csv('after_processing.csv')\n",
    "y = pd.read_csv('y.csv')\n",
    "test = pd.read_csv('test.csv')"
   ]
  },
  {
   "cell_type": "code",
   "execution_count": 59,
   "metadata": {},
   "outputs": [],
   "source": [
    "train_columns = [\"ORIGINAL_LANGUAGE\", \"ACTIVITY_NAME\", \"SECTOR_NAME\", \"COUNTRY_CODE\",\"CURRENCY_POLICY\",\n",
    "       \"CURRENCY\",\"REPAYMENT_INTERVAL\", \"DISTRIBUTION_MODEL\"]"
   ]
  },
  {
   "cell_type": "code",
   "execution_count": 60,
   "metadata": {},
   "outputs": [
    {
     "name": "stderr",
     "output_type": "stream",
     "text": [
      "/opt/anaconda3/lib/python3.7/site-packages/ipykernel_launcher.py:8: SettingWithCopyWarning: \n",
      "A value is trying to be set on a copy of a slice from a DataFrame.\n",
      "Try using .loc[row_indexer,col_indexer] = value instead\n",
      "\n",
      "See the caveats in the documentation: https://pandas.pydata.org/pandas-docs/stable/user_guide/indexing.html#returning-a-view-versus-a-copy\n",
      "  \n"
     ]
    }
   ],
   "source": [
    "test_X = test[train_columns]\n",
    "\n",
    "for column in test_X.columns:\n",
    "    le = LabelEncoder()\n",
    "    target_column = test_X[column]\n",
    "    le.fit(target_column)\n",
    "    label_encoded_column = le.transform(target_column)\n",
    "    test_X[column] = pd.Series(label_encoded_column).astype(\"int\")"
   ]
  },
  {
   "cell_type": "code",
   "execution_count": 61,
   "metadata": {},
   "outputs": [],
   "source": [
    "# Count the number of the translated description\n",
    "test['count_description_translated'] = test['DESCRIPTION_TRANSLATED'].apply(lambda x: x.split()) \n",
    "test['count_description_translated'] = test['count_description_translated'].apply(lambda x: len(x)) \n",
    "test['count_LOAN_USE'] = test['LOAN_USE'].apply(lambda x: x.split()) \n",
    "test['count_LOAN_USE'] = test['count_LOAN_USE'].apply(lambda x: len(x)) "
   ]
  },
  {
   "cell_type": "code",
   "execution_count": 62,
   "metadata": {},
   "outputs": [],
   "source": [
    "numerical = test[['count_description_translated', 'count_LOAN_USE']]\n",
    "test = pd.concat([test_X, numerical], axis=1)"
   ]
  },
  {
   "cell_type": "code",
   "execution_count": null,
   "metadata": {},
   "outputs": [],
   "source": []
  }
 ],
 "metadata": {
  "kernelspec": {
   "display_name": "Python 3",
   "language": "python",
   "name": "python3"
  },
  "language_info": {
   "codemirror_mode": {
    "name": "ipython",
    "version": 3
   },
   "file_extension": ".py",
   "mimetype": "text/x-python",
   "name": "python",
   "nbconvert_exporter": "python",
   "pygments_lexer": "ipython3",
   "version": "3.7.6"
  }
 },
 "nbformat": 4,
 "nbformat_minor": 4
}
